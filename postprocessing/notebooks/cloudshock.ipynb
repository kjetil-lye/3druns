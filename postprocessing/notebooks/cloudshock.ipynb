{
 "cells": [
  {
   "cell_type": "code",
   "execution_count": 1,
   "metadata": {},
   "outputs": [],
   "source": [
    "import sys\n",
    "sys.path.append('../python')\n",
    "\n",
    "import plot_info\n",
    "import convergence\n",
    "import os\n",
    "import os.path"
   ]
  },
  {
   "cell_type": "code",
   "execution_count": 1,
   "metadata": {},
   "outputs": [
    {
     "ename": "NameError",
     "evalue": "name 'plot_info' is not defined",
     "output_type": "error",
     "traceback": [
      "\u001b[0;31m---------------------------------------------------------------------------\u001b[0m",
      "\u001b[0;31mNameError\u001b[0m                                 Traceback (most recent call last)",
      "\u001b[0;32m<ipython-input-1-dbbcfa9b8e3e>\u001b[0m in \u001b[0;36m<module>\u001b[0;34m\u001b[0m\n\u001b[0;32m----> 1\u001b[0;31m \u001b[0mCLOUDSHOCK_DATA_PATH\u001b[0m \u001b[0;34m=\u001b[0m \u001b[0mplot_info\u001b[0m\u001b[0;34m.\u001b[0m\u001b[0mget_environment\u001b[0m\u001b[0;34m(\u001b[0m\u001b[0;34m\"THREEDIMS_PATH\"\u001b[0m\u001b[0;34m,\u001b[0m \u001b[0;34m[\u001b[0m\u001b[0;34m]\u001b[0m\u001b[0;34m)\u001b[0m\u001b[0;34m\u001b[0m\u001b[0;34m\u001b[0m\u001b[0m\n\u001b[0m\u001b[1;32m      2\u001b[0m \u001b[0;34m\u001b[0m\u001b[0m\n\u001b[1;32m      3\u001b[0m \u001b[0mresolutions\u001b[0m \u001b[0;34m=\u001b[0m \u001b[0;34m[\u001b[0m\u001b[0;36m64\u001b[0m\u001b[0;34m,\u001b[0m \u001b[0;36m128\u001b[0m\u001b[0;34m,\u001b[0m \u001b[0;36m256\u001b[0m\u001b[0;34m,\u001b[0m \u001b[0;36m512\u001b[0m\u001b[0;34m]\u001b[0m\u001b[0;34m\u001b[0m\u001b[0;34m\u001b[0m\u001b[0m\n\u001b[1;32m      4\u001b[0m \u001b[0;34m\u001b[0m\u001b[0m\n\u001b[1;32m      5\u001b[0m \u001b[0mstatistics\u001b[0m \u001b[0;34m=\u001b[0m \u001b[0;34m[\u001b[0m\u001b[0;34m\"mean\"\u001b[0m\u001b[0;34m,\u001b[0m \u001b[0;34m\"variance\"\u001b[0m\u001b[0;34m]\u001b[0m\u001b[0;34m\u001b[0m\u001b[0;34m\u001b[0m\u001b[0m\n",
      "\u001b[0;31mNameError\u001b[0m: name 'plot_info' is not defined"
     ]
    }
   ],
   "source": [
    "CLOUDSHOCK_DATA_PATH = plot_info.get_environment(\"THREEDIMS_PATH\", [])\n",
    "\n",
    "resolutions = [64, 128, 256, 512]\n",
    "\n",
    "statistics = [\"mean\", \"variance\"]\n",
    "variable = \"rho\"\n",
    "timesteps = [0, 1]\n",
    "\n",
    "for timestep in timesteps:\n",
    "    setup = \"Cloudshock at $T={}$\".format(timestep*0.06)\n",
    "\n",
    "    basename = os.path.join(CLOUDSHOCK_DATA_PATH, 'cloudshock/stats/N{resolution}/cloudshock_{statistic}_' + str(timestep) + '.nc')\n",
    "    \n",
    "    convergence.plot_statistics_convergence(resolutions, basename, statistics, variable, setup)\n",
    "\n",
    "    basename_single = os.path.join(CLOUDSHOCK_DATA_PATH, 'cloudshock/stats/N{resolution}/cloudshock_' + str(timestep) + '.nc')\n",
    "\n",
    "    try:\n",
    "        convergence.plot_single_sample_convergence(resolutions, basename_sample, 0, variable, setup)\n",
    "        convergence.plot_wasserstein_convergence(resolutions, basename_single, variable, setup)\n",
    "    except Exception as e:\n",
    "        print(\"Failed plotting single sample converence\\n{}\".format(str(e)))\n",
    "    \n",
    "        "
   ]
  },
  {
   "cell_type": "code",
   "execution_count": null,
   "metadata": {},
   "outputs": [],
   "source": []
  }
 ],
 "metadata": {
  "kernelspec": {
   "display_name": "Python 3",
   "language": "python",
   "name": "python3"
  },
  "language_info": {
   "codemirror_mode": {
    "name": "ipython",
    "version": 3
   },
   "file_extension": ".py",
   "mimetype": "text/x-python",
   "name": "python",
   "nbconvert_exporter": "python",
   "pygments_lexer": "ipython3",
   "version": "3.6.8"
  }
 },
 "nbformat": 4,
 "nbformat_minor": 2
}
