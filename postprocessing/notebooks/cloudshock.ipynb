{
 "cells": [
  {
   "cell_type": "code",
   "execution_count": 1,
   "metadata": {},
   "outputs": [],
   "source": [
    "import sys\n",
    "sys.path.append('../python')\n",
    "\n",
    "import plot_info\n",
    "import convergence\n",
    "import os\n",
    "import os.path"
   ]
  },
  {
   "cell_type": "code",
   "execution_count": null,
   "metadata": {},
   "outputs": [],
   "source": [
    "CLOUDSHOCK_DATA_PATH = plot_info.get_environment(\"THREEDIMS_PATH\", [])\n",
    "\n",
    "resolutions = [64, 128, 256, 512]\n",
    "\n",
    "statistics = [\"mean\", \"variance\"]\n",
    "variable = \"rho\"\n",
    "setup = \"Cloudshock\"\n",
    "\n",
    "basename = os.path.join(CLOUDSHOCK_DATA_PATH, 'cloudshock/stats/N{resolution}/cloudshock_{statistic}_1.nc\")\n",
    "    \n",
    "convergence.plot_statistics_convergence(resolutions, basename, statistics, variable, setup)\n",
    "    \n"
   ]
  }
 ],
 "metadata": {
  "kernelspec": {
   "display_name": "Python 3",
   "language": "python",
   "name": "python3"
  },
  "language_info": {
   "codemirror_mode": {
    "name": "ipython",
    "version": 3
   },
   "file_extension": ".py",
   "mimetype": "text/x-python",
   "name": "python",
   "nbconvert_exporter": "python",
   "pygments_lexer": "ipython3",
   "version": "3.7.3"
  }
 },
 "nbformat": 4,
 "nbformat_minor": 2
}
