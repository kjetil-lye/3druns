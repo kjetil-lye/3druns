{
 "cells": [
  {
   "cell_type": "code",
   "execution_count": 1,
   "metadata": {},
   "outputs": [],
   "source": [
    "# %load defaults.ipy\n",
    "from numpy import *\n",
    "import numpy as np\n",
    "import matplotlib\n",
    "matplotlib.rcParams['savefig.dpi'] = 600\n",
    "%matplotlib inline\n",
    "\n",
    "import matplotlib.pyplot as plt\n",
    "\n",
    "import sys\n",
    "import os\n",
    "import os.path\n",
    "sys.path.append('../python')\n",
    "import plot_info\n",
    "from plot_info import showAndSave\n",
    "import netCDF4\n",
    "from IPython.core.display import display, HTML\n",
    "import matplotlib2tikz\n",
    "import copy\n",
    "import json\n",
    "import traceback\n",
    "with open('structure_function_configs.json') as f:\n",
    "    configurations = json.load(f)\n",
    "\n",
    "def for_each_config(f):\n",
    "    oldPrefix = copy.deepcopy(showAndSave.prefix)\n",
    "    for conf in configurations.keys():\n",
    "        \n",
    "        plot_info.console_log(conf)\n",
    "        headline(configurations[conf]['name'])\n",
    "        showAndSave.prefix = oldPrefix + conf\n",
    "        try:\n",
    "            f(configurations[conf])\n",
    "        except Exception as e:\n",
    "            message = \"Skipping {fname} on {conf} ({confname})\\n\\tReason: {reason}\\nTraceback: {traceback}\".format(fname=str(f),\n",
    "                                                                                                       conf=conf, \n",
    "                                                                                                       confname=configurations[conf]['name'],\n",
    "                                                                                                       reason=str(e),\n",
    "                                                                                                     traceback=traceback.format_exc())\n",
    "            plot_info.console_log(message)\n",
    "            print(message)\n",
    "    showAndSave.prefix=oldPrefix\n",
    "\n",
    "plot_info.set_notebook_name(\"structure_postprocess.ipynb\")"
   ]
  },
  {
   "cell_type": "code",
   "execution_count": 2,
   "metadata": {},
   "outputs": [],
   "source": [
    "def headline(text):\n",
    "    display(HTML(\"<h1>%s</h1>\"%text))\n",
    "def h2(text):\n",
    "    display(HTML(\"<h2>%s</h2>\"%text))\n",
    "def h3(text):\n",
    "    display(HTML(\"<h3>%s</h3>\"%text))\n",
    "def h4(text):\n",
    "    display(HTML(\"<h4>%s</h4>\"%text))\n",
    "def h5(text):\n",
    "    display(HTML(\"<h4>%s</h4>\"%text))"
   ]
  },
  {
   "cell_type": "code",
   "execution_count": 3,
   "metadata": {},
   "outputs": [],
   "source": [
    "def readnetcdf4(filename, variable):\n",
    "    \n",
    "    with netCDF4.Dataset(filename) as f:\n",
    "        return f.variables[variable][:,0,0]\n",
    "\n",
    "def upscale(d, r):\n",
    "\n",
    "    while d.shape[0] < r:\n",
    "       \n",
    "        d = repeat(d,2,0)\n",
    "    return d\n",
    "\n",
    "def plotscalings_perturbation(d,pert, title,plot_nonlog=True,name=''):\n",
    "    N = len(d)\n",
    "    H = linspace(0, 64./2048,N)\n",
    "   \n",
    "    poly = polyfit(log(H[1:]),log(d[1:]),1)\n",
    "  \n",
    "  \n",
    "        \n",
    "    fig = plt.figure(0,figsize=2*plt.figaspect(0.9))\n",
    "    plt.title(title)\n",
    "    ax = plt.gca()\n",
    "    ax.loglog(H[1:],d[1:],label='%s $\\\\epsilon=%.4f$'%(name, pert))\n",
    "    ax.loglog(H[1:], exp(poly[1])*H[1:]**(poly[0]), '--',label='$\\\\mathcal{O}(h^{%.2f})$' % poly[0])\n",
    "    box = ax.get_position()\n",
    "    #ax.set_position([box.x0, box.y0 + box.height * 0.1,\n",
    "    #                 box.width, box.height * 0.9])\n",
    "    #\n",
    "    ## Put a legend below current axis\n",
    "    #ax.legend(loc='upper center', bbox_to_anchor=(0.5, -0.05),\n",
    "    #      fancybox=True, shadow=True, ncol=5)\n",
    "    ax.legend(loc='center right', bbox_to_anchor=(1, 0.5))\n",
    "    ax.grid('on')\n",
    "\n",
    "\n",
    "\n",
    "def plotscalings(d,r,title,plot_nonlog=True):\n",
    "    N = len(d)\n",
    "    H = linspace(0, 64./2048,N)\n",
    "   \n",
    "    poly = polyfit(log(H[1:]),log(d[1:]),1)\n",
    "    if plot_nonlog:\n",
    "        fig = plt.figure(0, figsize=2*plt.figaspect(0.5))\n",
    "        fig.suptitle(title)\n",
    "        ax = fig.add_subplot(1,2,1)\n",
    "        \n",
    "        ax.plot(H,d,label='r=%d'%r)\n",
    "        ax.plot(H, exp(poly[1])*H**(poly[0]), '--',label='$\\\\mathcal{O}(h^{%.2f})$' % poly[0])\n",
    "        ax.grid('on')\n",
    "        box = ax.get_position()\n",
    "        ax.set_position([box.x0, box.y0 + box.height * 0.1,\n",
    "                         box.width, box.height * 0.9])\n",
    "        \n",
    "        # Put a legend below current axis\n",
    "        #ax.legend(pos='upper center', bbox_to_anchor=(0.5, -0.05),\n",
    "        #     fancybox=True, shadow=True, ncol=5)\n",
    "        \n",
    "        ax.legend(bbox_to_anchor=(0.5, -0.05),\n",
    "             fancybox=True, shadow=True, ncol=5)\n",
    "        \n",
    "    \n",
    "          \n",
    "\n",
    "        ax = fig.add_subplot(1,2,2)\n",
    "    else:\n",
    "        \n",
    "        fig = plt.figure(0,figsize=2*plt.figaspect(0.9))\n",
    "        plt.title(title)\n",
    "        ax = plt.gca()\n",
    "    ax.loglog(H[1:],d[1:],label='$N=%d$'%r)\n",
    "    ax.loglog(H[1:], exp(poly[1])*H[1:]**(poly[0]), '--',label='$\\\\mathcal{O}(h^{%.2f})$' % poly[0])\n",
    "    box = ax.get_position()\n",
    "    #ax.set_position([box.x0, box.y0 + box.height * 0.1,\n",
    "    #                 box.width, box.height * 0.9])\n",
    "    #\n",
    "    ## Put a legend below current axis\n",
    "    #ax.legend(loc='upper center', bbox_to_anchor=(0.5, -0.05),\n",
    "    #      fancybox=True, shadow=True, ncol=5)\n",
    "    ax.legend(loc='center right', bbox_to_anchor=(1, 0.5))\n",
    "    ax.grid('on')\n",
    "\n",
    "\n",
    "\n",
    "\n",
    "def getlineintegral(filename, variable,resolution):\n",
    "    d = readnetcdf4(filename, variable)\n",
    "    dx = 1.0/resolution\n",
    "    \n",
    "    for h in range(1,len(d)):\n",
    "        d[h] += d[h-1]\n",
    "    for h in range(1,len(d)):\n",
    "        d[h] /=(2*h+1)**3\n",
    "        \n",
    "    return d\n",
    "    "
   ]
  },
  {
   "cell_type": "code",
   "execution_count": 4,
   "metadata": {
    "scrolled": false
   },
   "outputs": [
    {
     "data": {
      "text/html": [
       "<h1>Kelvin-Helmholtz tube</h1>"
      ],
      "text/plain": [
       "<IPython.core.display.HTML object>"
      ]
     },
     "metadata": {},
     "output_type": "display_data"
    },
    {
     "data": {
      "text/html": [
       "<h1>Component convergence Box averaged structure functions</h1>"
      ],
      "text/plain": [
       "<IPython.core.display.HTML object>"
      ]
     },
     "metadata": {},
     "output_type": "display_data"
    },
    {
     "data": {
      "text/html": [
       "<h2>perturbation = 0.10</h2>"
      ],
      "text/plain": [
       "<IPython.core.display.HTML object>"
      ]
     },
     "metadata": {},
     "output_type": "display_data"
    },
    {
     "data": {
      "text/html": [
       "<h3>p = 1</h3>"
      ],
      "text/plain": [
       "<IPython.core.display.HTML object>"
      ]
     },
     "metadata": {},
     "output_type": "display_data"
    },
    {
     "data": {
      "text/html": [
       "<h4>t = 0</h4>"
      ],
      "text/plain": [
       "<IPython.core.display.HTML object>"
      ]
     },
     "metadata": {},
     "output_type": "display_data"
    },
    {
     "name": "stdout",
     "output_type": "stream",
     "text": [
      "64\n",
      "128\n",
      "256\n"
     ]
    },
    {
     "name": "stderr",
     "output_type": "stream",
     "text": [
      "/usr/lib/python3.7/site-packages/ipykernel_launcher.py:42: RankWarning: Polyfit may be poorly conditioned\n"
     ]
    },
    {
     "data": {
      "image/png": "[encoded data removed]",
      "text/plain": [
       "<Figure size 640x576 with 1 Axes>"
      ]
     },
     "metadata": {
      "needs_background": "light"
     },
     "output_type": "display_data"
    },
    {
     "data": {
      "image/png": "[encoded data removed]",
      "text/plain": [
       "<Figure size 432x288 with 1 Axes>"
      ]
     },
     "metadata": {
      "needs_background": "light"
     },
     "output_type": "display_data"
    },
    {
     "data": {
      "text/html": [
       "<h3>p = 2</h3>"
      ],
      "text/plain": [
       "<IPython.core.display.HTML object>"
      ]
     },
     "metadata": {},
     "output_type": "display_data"
    },
    {
     "data": {
      "text/html": [
       "<h4>t = 0</h4>"
      ],
      "text/plain": [
       "<IPython.core.display.HTML object>"
      ]
     },
     "metadata": {},
     "output_type": "display_data"
    },
    {
     "name": "stdout",
     "output_type": "stream",
     "text": [
      "64\n",
      "Skipping <function convergence_structure_functions at 0x7fd9385682f0> on kh_tube (Kelvin-Helmholtz tube)\n",
      "\tReason: [Errno 2] No such file or directory: b'../structure/scripts/kh_N64_0.1/structure_t_1_structure_cube_2.000000_0.nc'\n",
      "Traceback: Traceback (most recent call last):\n",
      "  File \"<ipython-input-1-2f06f042b968>\", line 33, in for_each_config\n",
      "    f(configurations[conf])\n",
      "  File \"<ipython-input-4-65bb3c28d040>\", line 39, in convergence_structure_functions\n",
      "    d = getlineintegral(filename, variable, resolution)\n",
      "  File \"<ipython-input-3-1d9e6af94652>\", line 87, in getlineintegral\n",
      "    d = readnetcdf4(filename, variable)\n",
      "  File \"<ipython-input-3-1d9e6af94652>\", line 3, in readnetcdf4\n",
      "    with netCDF4.Dataset(filename) as f:\n",
      "  File \"netCDF4/_netCDF4.pyx\", line 2291, in netCDF4._netCDF4.Dataset.__init__\n",
      "  File \"netCDF4/_netCDF4.pyx\", line 1855, in netCDF4._netCDF4._ensure_nc_success\n",
      "FileNotFoundError: [Errno 2] No such file or directory: b'../structure/scripts/kh_N64_0.1/structure_t_1_structure_cube_2.000000_0.nc'\n",
      "\n"
     ]
    }
   ],
   "source": [
    "def convergence_structure_functions(config):\n",
    "    headline(\"Component convergence Box averaged structure functions\")\n",
    "    variables = ['rho', 'mx','my','mz', 'E']\n",
    "    perturbations = config['perturbations']\n",
    "    Tarray = config['Tarray']\n",
    "    resolutions = config['resolutions']\n",
    "    cube_filename = config['cube_filename']\n",
    "    name = config['name']\n",
    "    maxT = config['maxT']\n",
    "    for perturbation in perturbations:\n",
    "        h2(\"perturbation = %.2f\" % perturbation)\n",
    "        for p in [1,2,3]:\n",
    "            h3(\"p = %d\" % p)\n",
    "            timeArray = [Tarray[-1]]\n",
    "            if 'kelvin' in name.lower():\n",
    "                timeArray = Tarray\n",
    "            try:\n",
    "                if Tarray[1] not in timeArray:\n",
    "                    timeArray.append(Tarray[1])\n",
    "            except:\n",
    "                pass\n",
    "                \n",
    "            if 1 not in Tarray:\n",
    "                timeArray.append(1)\n",
    "                \n",
    "            for t in timeArray:\n",
    "                h4(\"t = %d\" % (0.2*t))\n",
    "\n",
    "                errors = zeros(len(resolutions)-1)\n",
    "\n",
    "\n",
    "                for (nr, resolution) in enumerate(resolutions):\n",
    "                    dVar = zeros((64*resolution)//2048)\n",
    "                    print(resolution)\n",
    "                    for variable in variables:\n",
    "\n",
    "                        filename = cube_filename.format(perturbation = perturbation, p=p,t=t,resolution=resolution)\n",
    "\n",
    "                        d = getlineintegral(filename, variable, resolution)\n",
    "\n",
    "\n",
    "                        dVar += d\n",
    "                    dVar = dVar**(1.0/p)\n",
    "                    if resolution > resolutions[0]:\n",
    "                        errors[nr-1] = abs(dVar[-1]-dPrev[-1])\n",
    "                    dPrev = repeat(dVar,2,0)\n",
    "                    if len(perturbations) > 1:\n",
    "                        title = 'Scaling for {name}, $t={time},p={p},\\\\varepsilon={perturbation}$'.format(name=name,time=t*maxT/float(len(Tarray)-1),p=p,perturbation=perturbation)\n",
    "                    else:\n",
    "                        title = 'Scaling for {name}, $t={time},p={p}$'.format(name=name,time=t*maxT/float(max(Tarray)),p=p,perturbation=perturbation)\n",
    "\n",
    "                    plotscalings(dVar, resolution, title, False)\n",
    "                    plt.xlabel('$h$')\n",
    "                    plt.ylabel('$\\\\left(\\\\bar{S}^{%d}_{1/N,N}(h)\\\\right)^{\\\\frac{1}{%d}}$' % (p,p))\n",
    "                for nr in range(len(resolutions)-1):\n",
    "                    errors[nr] = abs(errors[nr])\n",
    "\n",
    "                showAndSave('scaling_{name}_{p}_{perturbation}_{time}'.format(name=name.replace('$','').replace(' ',\"_\").replace('=',''), p=p, perturbation=perturbation, time=t))\n",
    "                plt.loglog(resolutions[1:],errors,'-o',label='%s' % variable, basex=2, basey=2)\n",
    "                \n",
    "                plt.ylim([2.0**(np.floor(np.log2(min(errors))))/1.1, 1.1*2.0**(np.ceil(np.log2(max(errors))))])\n",
    "                if len(perturbations)>1:\n",
    "                    title = '{name}, $p={p}, t={t}, \\\\varepsilon={perturbation}$'.format(name=name, perturbation=perturbation, p=p,t=t*maxT/float(max(Tarray)))\n",
    "                else:\n",
    "                    title = '{name}, $p={p}, t={t}$'.format(name=name, perturbation=perturbation, p=p,t=t*maxT/float(max(Tarray)))\n",
    "\n",
    "                #plt.title('{name}, $p={p}, t={t}, \\\\varepsilon={perturbation}$'.format(name=name, perturbation=perturbation, p=p,t=t*maxT/float(max(Tarray))))\n",
    "\n",
    "                plt.title(title)\n",
    "                plt.xlabel('Resolution')\n",
    "                plt.ylabel('$|S^{%d}_{\\Delta x,M}(h_{\\\\max})-S^{%d}_{2\\Delta x,M}(h_{\\\\max})|$' % (p,p) )\n",
    "                plt.grid('on')\n",
    "                plt.xticks(resolutions[1:], ['${r} \\\\times {r}$'.format(r=r) for r in resolutions[1:]])\n",
    "                showAndSave('convergence_{name}_{p}_{perturbation}_{time}'.format(name=name.replace('$','').replace(' ',\"_\").replace('=',''), p=p, perturbation=perturbation, time=t))\n",
    "                \n",
    "for_each_config(convergence_structure_functions)"
   ]
  },
  {
   "cell_type": "code",
   "execution_count": null,
   "metadata": {},
   "outputs": [],
   "source": []
  }
 ],
 "metadata": {
  "kernelspec": {
   "display_name": "Python 3",
   "language": "python",
   "name": "python3"
  },
  "language_info": {
   "codemirror_mode": {
    "name": "ipython",
    "version": 3
   },
   "file_extension": ".py",
   "mimetype": "text/x-python",
   "name": "python",
   "nbconvert_exporter": "python",
   "pygments_lexer": "ipython3",
   "version": "3.7.3"
  }
 },
 "nbformat": 4,
 "nbformat_minor": 2
}
